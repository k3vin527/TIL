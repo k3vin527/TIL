{
 "cells": [
  {
   "cell_type": "code",
   "execution_count": 1,
   "id": "62f2cd82",
   "metadata": {},
   "outputs": [
    {
     "name": "stdout",
     "output_type": "stream",
     "text": [
      "[1 2]\n"
     ]
    }
   ],
   "source": [
    "# 직교 벡터\n",
    "import numpy as np\n",
    "\n",
    "#크기가 (1,2) 인 2차원 배열\n",
    "\n",
    "a = np.array([1,2])\n",
    "print(a)"
   ]
  },
  {
   "cell_type": "code",
   "execution_count": 2,
   "id": "0b864dfa",
   "metadata": {},
   "outputs": [
    {
     "data": {
      "text/plain": [
       "2.23606797749979"
      ]
     },
     "execution_count": 2,
     "metadata": {},
     "output_type": "execute_result"
    }
   ],
   "source": [
    "np.linalg.norm(a) # a의 길이"
   ]
  },
  {
   "cell_type": "code",
   "execution_count": 3,
   "id": "cfb8795e",
   "metadata": {},
   "outputs": [
    {
     "data": {
      "text/plain": [
       "3.0"
      ]
     },
     "execution_count": 3,
     "metadata": {},
     "output_type": "execute_result"
    }
   ],
   "source": [
    "# l1 norm\n",
    "\n",
    "np.linalg.norm(a, ord=1)"
   ]
  },
  {
   "cell_type": "code",
   "execution_count": 5,
   "id": "69c33634",
   "metadata": {},
   "outputs": [
    {
     "data": {
      "text/plain": [
       "2.23606797749979"
      ]
     },
     "execution_count": 5,
     "metadata": {},
     "output_type": "execute_result"
    }
   ],
   "source": [
    "# l2 norm\n",
    "\n",
    "np.linalg.norm(a, ord=2)"
   ]
  },
  {
   "cell_type": "code",
   "execution_count": 6,
   "id": "07837723",
   "metadata": {},
   "outputs": [
    {
     "data": {
      "text/plain": [
       "5.196152422706632"
      ]
     },
     "execution_count": 6,
     "metadata": {},
     "output_type": "execute_result"
    }
   ],
   "source": [
    "# 유클리디언 거리 구하기\n",
    "\n",
    "from scipy.spatial import distance\n",
    "\n",
    "p1 = (1,2,3)\n",
    "p2 = (4,5,6)\n",
    "\n",
    "# p1, p2 사이 유클리디언 거리\n",
    "\n",
    "distance.euclidean(p1,p2)"
   ]
  },
  {
   "cell_type": "code",
   "execution_count": 8,
   "id": "021f4eeb",
   "metadata": {},
   "outputs": [],
   "source": [
    "# 맨해튼 거리\n",
    "\n",
    "from math import *\n",
    "\n",
    "p1 = (1,2,3)\n",
    "p2 = (4,5,6)\n",
    "\n",
    "# p1, p2 사이 맨해튼 거리\n",
    "def manhattan_dist(x,y):\n",
    "    return sum(abs(a-b) for a, b in zip(x,y))"
   ]
  },
  {
   "cell_type": "code",
   "execution_count": 9,
   "id": "73f6f7f8",
   "metadata": {},
   "outputs": [
    {
     "data": {
      "text/plain": [
       "9"
      ]
     },
     "execution_count": 9,
     "metadata": {},
     "output_type": "execute_result"
    }
   ],
   "source": [
    "manhattan_dist(p1,p2)"
   ]
  },
  {
   "cell_type": "code",
   "execution_count": 10,
   "id": "aa44a215",
   "metadata": {},
   "outputs": [],
   "source": [
    "# 코사인 유사도 - 문서 유사도\n",
    "\n",
    "from numpy import dot\n",
    "from numpy.linalg import norm\n",
    "import numpy as np\n",
    "\n",
    "def cos_sim(A, B):\n",
    "    return dot(A,B)/(norm(A)*norm(B))"
   ]
  },
  {
   "cell_type": "code",
   "execution_count": 13,
   "id": "77e19b1f",
   "metadata": {},
   "outputs": [],
   "source": [
    "doc1 = np.array([1,1,1,1,0])\n",
    "doc2 = np.array([1,0,1,0,1])\n",
    "doc3 = np.array([2,1,1,1,1])"
   ]
  },
  {
   "cell_type": "code",
   "execution_count": 14,
   "id": "9fb5616f",
   "metadata": {},
   "outputs": [
    {
     "name": "stdout",
     "output_type": "stream",
     "text": [
      "0.5773502691896258\n",
      "0.8838834764831843\n",
      "0.8164965809277259\n"
     ]
    }
   ],
   "source": [
    "# 코사인 함수에 따라 문서 간 유사도 출력하기\n",
    "\n",
    "print(cos_sim(doc1, doc2))\n",
    "print(cos_sim(doc1, doc3))   # 문서 1과 문서 3 유사도가 가장 높음\n",
    "print(cos_sim(doc2, doc3))"
   ]
  }
 ],
 "metadata": {
  "kernelspec": {
   "display_name": "Python 3 (ipykernel)",
   "language": "python",
   "name": "python3"
  },
  "language_info": {
   "codemirror_mode": {
    "name": "ipython",
    "version": 3
   },
   "file_extension": ".py",
   "mimetype": "text/x-python",
   "name": "python",
   "nbconvert_exporter": "python",
   "pygments_lexer": "ipython3",
   "version": "3.9.7"
  }
 },
 "nbformat": 4,
 "nbformat_minor": 5
}
