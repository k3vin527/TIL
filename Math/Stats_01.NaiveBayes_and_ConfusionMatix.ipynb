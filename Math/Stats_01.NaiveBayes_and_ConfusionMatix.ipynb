{
 "cells": [
  {
   "cell_type": "code",
   "execution_count": 1,
   "id": "5f8c7d7b",
   "metadata": {},
   "outputs": [],
   "source": [
    "import nltk"
   ]
  },
  {
   "cell_type": "code",
   "execution_count": 2,
   "id": "5717b9e7",
   "metadata": {},
   "outputs": [
    {
     "name": "stdout",
     "output_type": "stream",
     "text": [
      "showing info https://raw.githubusercontent.com/nltk/nltk_data/gh-pages/index.xml\n"
     ]
    },
    {
     "data": {
      "text/plain": [
       "True"
      ]
     },
     "execution_count": 2,
     "metadata": {},
     "output_type": "execute_result"
    }
   ],
   "source": [
    "nltk.download()"
   ]
  },
  {
   "cell_type": "code",
   "execution_count": 3,
   "id": "12ae2e41",
   "metadata": {},
   "outputs": [],
   "source": [
    "import numpy as np\n",
    "import pandas as pd\n",
    "from nltk.corpus import stopwords # stopword : 불용어 (the, a 등)\n",
    "import string\n",
    "import nltk"
   ]
  },
  {
   "cell_type": "code",
   "execution_count": 4,
   "id": "f0df29df",
   "metadata": {},
   "outputs": [
    {
     "data": {
      "text/html": [
       "<div>\n",
       "<style scoped>\n",
       "    .dataframe tbody tr th:only-of-type {\n",
       "        vertical-align: middle;\n",
       "    }\n",
       "\n",
       "    .dataframe tbody tr th {\n",
       "        vertical-align: top;\n",
       "    }\n",
       "\n",
       "    .dataframe thead th {\n",
       "        text-align: right;\n",
       "    }\n",
       "</style>\n",
       "<table border=\"1\" class=\"dataframe\">\n",
       "  <thead>\n",
       "    <tr style=\"text-align: right;\">\n",
       "      <th></th>\n",
       "      <th>Unnamed: 0</th>\n",
       "      <th>num</th>\n",
       "      <th>label</th>\n",
       "      <th>text</th>\n",
       "      <th>label_num</th>\n",
       "    </tr>\n",
       "  </thead>\n",
       "  <tbody>\n",
       "    <tr>\n",
       "      <th>0</th>\n",
       "      <td>0</td>\n",
       "      <td>1</td>\n",
       "      <td>spam</td>\n",
       "      <td>your free lottery</td>\n",
       "      <td>1</td>\n",
       "    </tr>\n",
       "    <tr>\n",
       "      <th>1</th>\n",
       "      <td>1</td>\n",
       "      <td>2</td>\n",
       "      <td>spam</td>\n",
       "      <td>free lottery free you</td>\n",
       "      <td>1</td>\n",
       "    </tr>\n",
       "    <tr>\n",
       "      <th>2</th>\n",
       "      <td>2</td>\n",
       "      <td>3</td>\n",
       "      <td>ham</td>\n",
       "      <td>your free apple</td>\n",
       "      <td>0</td>\n",
       "    </tr>\n",
       "    <tr>\n",
       "      <th>3</th>\n",
       "      <td>3</td>\n",
       "      <td>4</td>\n",
       "      <td>ham</td>\n",
       "      <td>free to contact me</td>\n",
       "      <td>0</td>\n",
       "    </tr>\n",
       "    <tr>\n",
       "      <th>4</th>\n",
       "      <td>4</td>\n",
       "      <td>5</td>\n",
       "      <td>ham</td>\n",
       "      <td>I won award</td>\n",
       "      <td>0</td>\n",
       "    </tr>\n",
       "    <tr>\n",
       "      <th>5</th>\n",
       "      <td>5</td>\n",
       "      <td>6</td>\n",
       "      <td>spam</td>\n",
       "      <td>my lottery ticket</td>\n",
       "      <td>1</td>\n",
       "    </tr>\n",
       "  </tbody>\n",
       "</table>\n",
       "</div>"
      ],
      "text/plain": [
       "   Unnamed: 0  num label                    text  label_num\n",
       "0           0    1  spam       your free lottery          1\n",
       "1           1    2  spam  free lottery free you           1\n",
       "2           2    3   ham        your free apple           0\n",
       "3           3    4   ham     free to contact me           0\n",
       "4           4    5   ham             I won award          0\n",
       "5           5    6  spam      my lottery ticket           1"
      ]
     },
     "execution_count": 4,
     "metadata": {},
     "output_type": "execute_result"
    }
   ],
   "source": [
    "df = pd.read_csv(\"./data/spam.csv\")\n",
    "df"
   ]
  },
  {
   "cell_type": "code",
   "execution_count": 10,
   "id": "01a8e9f8",
   "metadata": {},
   "outputs": [],
   "source": [
    "# 베이지안 확률 정의\n",
    "\n",
    "def process_text(text) :\n",
    "    \n",
    "    # 구두점 제거\n",
    "    nopunc = [char for char in text if char not in string.punctuation] # list comprehension\n",
    "    nopunc = ''.join(nopunc)\n",
    "    \n",
    "    # text 에서 무의미한 단어 (접미사, 조사 등) 삭제 --> stopwords (불용어) 제거\n",
    "    # 소문자로 전부 변환 (대/소문자 구분)\n",
    "     \n",
    "    cleaned_words=[word for word in nopunc.split() if word.lower() not in stopwords.words('english')]\n",
    "    \n",
    "    return cleaned_words"
   ]
  },
  {
   "cell_type": "code",
   "execution_count": 11,
   "id": "c96a8569",
   "metadata": {},
   "outputs": [
    {
     "data": {
      "text/plain": [
       "0         your free lottery\n",
       "1    free lottery free you \n",
       "2          your free apple \n",
       "3       free to contact me \n",
       "4               I won award\n",
       "5        my lottery ticket \n",
       "Name: text, dtype: object"
      ]
     },
     "execution_count": 11,
     "metadata": {},
     "output_type": "execute_result"
    }
   ],
   "source": [
    "# 데이터 셋의 텍스트 데이터 토큰화(분절) \n",
    "df['text']"
   ]
  },
  {
   "cell_type": "code",
   "execution_count": 12,
   "id": "32cd8907",
   "metadata": {},
   "outputs": [
    {
     "data": {
      "text/plain": [
       "0          [free, lottery]\n",
       "1    [free, lottery, free]\n",
       "2            [free, apple]\n",
       "3          [free, contact]\n",
       "4                  [award]\n",
       "5        [lottery, ticket]\n",
       "Name: text, dtype: object"
      ]
     },
     "execution_count": 12,
     "metadata": {},
     "output_type": "execute_result"
    }
   ],
   "source": [
    "# 데이터 셋의 텍스트 데이터 토큰화 (분절), apply() \n",
    "df['text'].apply(process_text)"
   ]
  },
  {
   "cell_type": "code",
   "execution_count": 17,
   "id": "e0a284ae",
   "metadata": {},
   "outputs": [
    {
     "data": {
      "text/plain": [
       "<6x6 sparse matrix of type '<class 'numpy.int64'>'\n",
       "\twith 11 stored elements in Compressed Sparse Row format>"
      ]
     },
     "execution_count": 17,
     "metadata": {},
     "output_type": "execute_result"
    }
   ],
   "source": [
    "# text를 token 수의 행렬 변환\n",
    "\n",
    "from sklearn.feature_extraction.text import CountVectorizer\n",
    "messages_bow = CountVectorizer(analyzer = process_text).fit_transform(df['text'])\n",
    "messages_bow"
   ]
  },
  {
   "cell_type": "code",
   "execution_count": 18,
   "id": "db9d48e3",
   "metadata": {},
   "outputs": [],
   "source": [
    "# data를 train, test 로 분류\n",
    "\n",
    "from sklearn.model_selection import train_test_split\n",
    "\n",
    "X_train, X_test, y_train, y_test = train_test_split(messages_bow, df['label_num'], test_size=0.2, random_state = 0)"
   ]
  },
  {
   "cell_type": "code",
   "execution_count": 19,
   "id": "084b0467",
   "metadata": {},
   "outputs": [
    {
     "data": {
      "text/plain": [
       "MultinomialNB()"
      ]
     },
     "execution_count": 19,
     "metadata": {},
     "output_type": "execute_result"
    }
   ],
   "source": [
    "# naive_bayes 다항식 나이브베이즈 모델 사용, 훈련\n",
    "\n",
    "from sklearn.naive_bayes import MultinomialNB\n",
    "classifier = MultinomialNB()\n",
    "classifier.fit(X_train, y_train)  # train 데이터로 fit  해야함"
   ]
  },
  {
   "cell_type": "code",
   "execution_count": 20,
   "id": "2ebf3389",
   "metadata": {},
   "outputs": [
    {
     "name": "stdout",
     "output_type": "stream",
     "text": [
      "[1 0 1 0]\n",
      "[1 0 1 0]\n"
     ]
    }
   ],
   "source": [
    "# 예측 값, 실제 값 출력\n",
    "\n",
    "print(classifier.predict(X_train)) # 예측 값\n",
    "print(y_train.values) # 실제 값"
   ]
  },
  {
   "cell_type": "code",
   "execution_count": 25,
   "id": "a47e0f3f",
   "metadata": {},
   "outputs": [
    {
     "name": "stdout",
     "output_type": "stream",
     "text": [
      "              precision    recall  f1-score   support\n",
      "\n",
      "           0       1.00      1.00      1.00         2\n",
      "           1       1.00      1.00      1.00         2\n",
      "\n",
      "    accuracy                           1.00         4\n",
      "   macro avg       1.00      1.00      1.00         4\n",
      "weighted avg       1.00      1.00      1.00         4\n",
      "\n"
     ]
    }
   ],
   "source": [
    "# 학습 데이터셋에 모델 정확도\n",
    "\n",
    "from sklearn.metrics import classification_report\n",
    "from sklearn.metrics import confusion_matrix, accuracy_score\n",
    "\n",
    "pred = classifier.predict(X_train) #예측값 출력\n",
    "\n",
    "#metrics pkg 에 있는 정밀도(precision), 재현율(sensitivity) f-1 score 구하기\n",
    "\n",
    "print(classification_report(y_train, pred)) #실제값, 예측값"
   ]
  },
  {
   "cell_type": "markdown",
   "id": "2acda8ae",
   "metadata": {},
   "source": [
    "1. precision(정밀도) : 정확한 예측, 예측 기준, TruePostive 진짜 양성인 것을 맞추는 것\n",
    "2. recall(재현율, 민감도) : 재현 실제(실화)냐 , 실제(Actual) 기준, TP 진짜 양성인 것을 맞추는 것\n",
    "3. f1-score : 정밀도와 지현율의 조화 평균 (둘다 중요한 지표기 때문에 둘 다 고려 해야함)\n",
    "4. 정밀도와 재현율은 상충관계(trade off)\n",
    "5. 산업군 마다 중요도가 틀림\n",
    "  - 의료 : 재현율 중요 ( 암환자 _ True positive 에게 암(positive)라 진단해야 함 )\n",
    "  - 반도체 : 정밀도 ( 정확히 예측하는 제품을 생산해 정확하게 실제에 딱 맞춤 )"
   ]
  },
  {
   "cell_type": "code",
   "execution_count": 26,
   "id": "6e42cd36",
   "metadata": {},
   "outputs": [
    {
     "data": {
      "text/plain": [
       "array([[2, 0],\n",
       "       [0, 2]], dtype=int64)"
      ]
     },
     "execution_count": 26,
     "metadata": {},
     "output_type": "execute_result"
    }
   ],
   "source": [
    "# confusion matrix\n",
    "\n",
    "confusion_matrix(y_train, pred)  # 실제값, 예측값"
   ]
  },
  {
   "cell_type": "code",
   "execution_count": 27,
   "id": "e9b2af0d",
   "metadata": {},
   "outputs": [
    {
     "data": {
      "text/plain": [
       "1.0"
      ]
     },
     "execution_count": 27,
     "metadata": {},
     "output_type": "execute_result"
    }
   ],
   "source": [
    "accuracy_score(y_train, pred)"
   ]
  },
  {
   "cell_type": "code",
   "execution_count": 28,
   "id": "d7694a70",
   "metadata": {},
   "outputs": [
    {
     "data": {
      "text/plain": [
       "array([1, 1], dtype=int64)"
      ]
     },
     "execution_count": 28,
     "metadata": {},
     "output_type": "execute_result"
    }
   ],
   "source": [
    "# 테스트 데이터 셋 모델의 정확도 평가\n",
    "classifier.predict(X_test)"
   ]
  },
  {
   "cell_type": "code",
   "execution_count": 29,
   "id": "d793e3ca",
   "metadata": {},
   "outputs": [
    {
     "name": "stdout",
     "output_type": "stream",
     "text": [
      "[1 0]\n"
     ]
    }
   ],
   "source": [
    "# 실제 관측값 출력\n",
    "\n",
    "print(y_test.values)"
   ]
  },
  {
   "cell_type": "code",
   "execution_count": 32,
   "id": "3f7dffcc",
   "metadata": {},
   "outputs": [
    {
     "name": "stdout",
     "output_type": "stream",
     "text": [
      "[[0 1]\n",
      " [0 1]]\n"
     ]
    }
   ],
   "source": [
    "# 테스트 셋에서 모델 평가\n",
    "\n",
    "from sklearn.metrics import classification_report\n",
    "from sklearn.metrics import confusion_matrix, accuracy_score\n",
    "\n",
    "pred = classifier.predict(X_test) # X_test : test data (새로운 데이터 간주)\n",
    "print(confusion_matrix(y_test, pred)) # 실제 라벨된 값, 예측 라벨"
   ]
  },
  {
   "cell_type": "code",
   "execution_count": 33,
   "id": "9ec3908a",
   "metadata": {},
   "outputs": [
    {
     "name": "stdout",
     "output_type": "stream",
     "text": [
      "0.5\n"
     ]
    }
   ],
   "source": [
    "print(accuracy_score(y_test, pred)) # 예측률 : 0.5 (50%)"
   ]
  }
 ],
 "metadata": {
  "kernelspec": {
   "display_name": "Python 3 (ipykernel)",
   "language": "python",
   "name": "python3"
  },
  "language_info": {
   "codemirror_mode": {
    "name": "ipython",
    "version": 3
   },
   "file_extension": ".py",
   "mimetype": "text/x-python",
   "name": "python",
   "nbconvert_exporter": "python",
   "pygments_lexer": "ipython3",
   "version": "3.9.7"
  }
 },
 "nbformat": 4,
 "nbformat_minor": 5
}
