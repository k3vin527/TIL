{
 "cells": [
  {
   "cell_type": "markdown",
   "id": "8513402e",
   "metadata": {},
   "source": [
    "## 사용자 정의함수\n",
    "---\n",
    "- 사용자가 정의하는 함수의 형태\n",
    "- input과 output 관계를 내부에 정의\n",
    "- def, lambda(축약형)\n",
    "\n",
    "### 1. def 방식\n",
    "``` python\n",
    "def 함수이름(인수1, 인수2, 인수3) :\n",
    "    함수 본문\n",
    "    return 반환할 객체\n",
    "```\n",
    "---"
   ]
  },
  {
   "cell_type": "markdown",
   "id": "4ccaaa50",
   "metadata": {},
   "source": [
    "- 숫자를 넣어서 곱하기 10한 값을 반환"
   ]
  },
  {
   "cell_type": "code",
   "execution_count": 1,
   "id": "6777f4d8",
   "metadata": {},
   "outputs": [
    {
     "data": {
      "text/plain": [
       "1000"
      ]
     },
     "execution_count": 1,
     "metadata": {},
     "output_type": "execute_result"
    }
   ],
   "source": [
    "def f_mul(x):\n",
    "    v1 = x*10\n",
    "    return v1\n",
    "\n",
    "f_mul(100)"
   ]
  },
  {
   "cell_type": "markdown",
   "id": "afc05cc2",
   "metadata": {},
   "source": [
    "- 두개의 숫자를 넣어서 두 숫자의 곱을 반환"
   ]
  },
  {
   "cell_type": "code",
   "execution_count": 2,
   "id": "e6d224ec",
   "metadata": {},
   "outputs": [
    {
     "name": "stdout",
     "output_type": "stream",
     "text": [
      "20\n"
     ]
    }
   ],
   "source": [
    "def f2_mul(x,y):\n",
    "    v2 = x*y\n",
    "    return v2\n",
    "\n",
    "print(f2_mul(2,10))"
   ]
  },
  {
   "cell_type": "markdown",
   "id": "2bb2f8dd",
   "metadata": {},
   "source": [
    "- 인수에 default 값"
   ]
  },
  {
   "cell_type": "code",
   "execution_count": 3,
   "id": "9f937b66",
   "metadata": {},
   "outputs": [
    {
     "ename": "SyntaxError",
     "evalue": "non-default argument follows default argument (Temp/ipykernel_3896/436853065.py, line 1)",
     "output_type": "error",
     "traceback": [
      "\u001b[1;36m  File \u001b[1;32m\"C:\\Users\\k3vin\\AppData\\Local\\Temp/ipykernel_3896/436853065.py\"\u001b[1;36m, line \u001b[1;32m1\u001b[0m\n\u001b[1;33m    def f_d(x=1,y):\u001b[0m\n\u001b[1;37m                 ^\u001b[0m\n\u001b[1;31mSyntaxError\u001b[0m\u001b[1;31m:\u001b[0m non-default argument follows default argument\n"
     ]
    }
   ],
   "source": [
    "def f_d(x=1,y):\n",
    "    return(x*y)\n",
    "\n",
    "#첫 번째 인수에 기본값을 정의하면, 뒤에 나오는 인수도 기본값을 정의 해야함"
   ]
  },
  {
   "cell_type": "markdown",
   "id": "4ae84083",
   "metadata": {},
   "source": [
    "### 2. lambda 축약형\n",
    "- 비교적 단순한 연산 및 리턴시 사용"
   ]
  },
  {
   "cell_type": "markdown",
   "id": "1876c1c2",
   "metadata": {},
   "source": [
    "#### 예제 : 임의의 숫자를 입력했을때, 여기에 10을 곱한 값을 리턴하세요 "
   ]
  },
  {
   "cell_type": "code",
   "execution_count": 4,
   "id": "340c8330",
   "metadata": {},
   "outputs": [
    {
     "data": {
      "text/plain": [
       "50"
      ]
     },
     "execution_count": 4,
     "metadata": {},
     "output_type": "execute_result"
    }
   ],
   "source": [
    "f1 = lambda x : x*10\n",
    "f1(5)"
   ]
  },
  {
   "cell_type": "markdown",
   "id": "013842ed",
   "metadata": {},
   "source": []
  }
 ],
 "metadata": {
  "kernelspec": {
   "display_name": "Python 3 (ipykernel)",
   "language": "python",
   "name": "python3"
  },
  "language_info": {
   "codemirror_mode": {
    "name": "ipython",
    "version": 3
   },
   "file_extension": ".py",
   "mimetype": "text/x-python",
   "name": "python",
   "nbconvert_exporter": "python",
   "pygments_lexer": "ipython3",
   "version": "3.9.7"
  }
 },
 "nbformat": 4,
 "nbformat_minor": 5
}
