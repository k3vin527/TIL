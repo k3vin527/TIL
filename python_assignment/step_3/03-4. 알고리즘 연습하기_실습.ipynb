{
 "cells": [
  {
   "cell_type": "markdown",
   "id": "47f9ddc7",
   "metadata": {},
   "source": [
    "# up&down 숫자맞추기 게임"
   ]
  },
  {
   "cell_type": "markdown",
   "id": "cfd44e63",
   "metadata": {},
   "source": [
    "* 1~100 사이의 정답 숫자를 랜덤으로 하나 정하고, 정답 숫자를 맞출 때까지 숫자를 입력하는 게임이다.     \n",
    "내가 입력한 숫자가 정답보다 작으면 'DOWN', 정답보다 크면 'UP'을 출력하고 숫자를 다시 입력받는다.     \n",
    "정답을 맞추면 '정답!'이라고 출력하고 게임을 끝낸다."
   ]
  },
  {
   "cell_type": "code",
   "execution_count": 12,
   "id": "6333ba44",
   "metadata": {
    "scrolled": true
   },
   "outputs": [
    {
     "name": "stdout",
     "output_type": "stream",
     "text": [
      "2\n",
      "숫자를 입력하세요 : 1\n",
      "UP\n",
      "숫자를 입력하세요 : 2\n",
      "정답!\n"
     ]
    }
   ],
   "source": [
    "import random\n",
    "\n",
    "number = random.randint(1, 100)\n",
    "print(number)\n",
    "\n",
    "answer = int(input('숫자를 입력하세요 : '))\n",
    "\n",
    "while True :\n",
    "    if number > answer :\n",
    "        print('UP')\n",
    "        answer = int(input('숫자를 입력하세요 : '))\n",
    "    elif number < answer :\n",
    "        print('DOWN')\n",
    "        answer = int(input('숫자를 입력하세요 : '))\n",
    "    else :\n",
    "        print('정답!')\n",
    "        break"
   ]
  },
  {
   "cell_type": "markdown",
   "id": "24a74a8f",
   "metadata": {},
   "source": [
    "- 확장\n",
    "  기회는 5번까지만 주어집니다.\n",
    "  5회가 넘으면 '횟수초과' 메시지와 함께 정답을 알려줍니다.\n",
    "  정답을 맞추면 몇번째에 맞추었는지 출력합니다."
   ]
  },
  {
   "cell_type": "code",
   "execution_count": 25,
   "id": "62832173",
   "metadata": {},
   "outputs": [
    {
     "name": "stdout",
     "output_type": "stream",
     "text": [
      "정답은 ? : 93\n",
      "숫자를 입력하세요 : 93\n",
      "정답!\n",
      "1번째에 맞추셨습니다.\n"
     ]
    }
   ],
   "source": [
    "import random\n",
    "\n",
    "number = random.randint(1, 100)\n",
    "print(f'정답은 ? : {number}')\n",
    "\n",
    "answer = int(input('숫자를 입력하세요 : '))\n",
    "\n",
    "count = 0\n",
    "while count<5 :\n",
    "    count += 1\n",
    "    if count >= 5 :\n",
    "        print(f'횟수초과\\n 정답은 ? : {number}')\n",
    "        break\n",
    "        \n",
    "    if number > answer :\n",
    "        print('UP')\n",
    "        answer = int(input('숫자를 입력하세요 : '))\n",
    "    elif number < answer :\n",
    "        print('DOWN')\n",
    "        answer = int(input('숫자를 입력하세요 : '))\n",
    "    else :\n",
    "        print('정답!')\n",
    "        print(f'{count}번째에 맞추셨습니다.')\n",
    "        break"
   ]
  },
  {
   "cell_type": "markdown",
   "id": "5e6ba755",
   "metadata": {},
   "source": [
    "# 사칙연산 프로그램"
   ]
  },
  {
   "cell_type": "markdown",
   "id": "ceb11370",
   "metadata": {},
   "source": [
    "* 두 수와 사칙연산기호(+,-,*,/)을 입력받아 연산 기호에 따라 연산 결과를 출력하는 프로그램을 작성하세요.\n",
    "* 사칙연산기호(+,-,*,/)가 아닌 경우 '잘못입력하셨습니다' 출력"
   ]
  },
  {
   "cell_type": "code",
   "execution_count": 20,
   "id": "bab34477",
   "metadata": {
    "scrolled": true
   },
   "outputs": [
    {
     "name": "stdout",
     "output_type": "stream",
     "text": [
      "첫번째 숫자를 입력하세요 : 3\n",
      "두번째 숫자를 입력하세요 : 5\n",
      "사칙연산기호를 입력하세요 :ㅋ\n",
      "잘못입력하셨습니다\n"
     ]
    }
   ],
   "source": [
    "num1 = int(input('첫번째 숫자를 입력하세요 : '))\n",
    "num2 = int(input('두번째 숫자를 입력하세요 : '))\n",
    "symbol = input('사칙연산기호를 입력하세요 :')\n",
    "\n",
    "if symbol == '+' :\n",
    "    print(f'{num1} + {num2} =', num1+num2)\n",
    "    \n",
    "elif symbol == '-' :\n",
    "    print(f'{num1} - {num2} =', num1-num2)\n",
    "    \n",
    "elif symbol == '*' :\n",
    "    print(f'{num1} x {num2} =', num1*num2)\n",
    "\n",
    "elif symbol == '/' :\n",
    "    print(f'{num1} / {num2} =', num1/num2)\n",
    "\n",
    "else:\n",
    "    print('잘못입력하셨습니다')\n",
    "\n",
    "    \n",
    "    "
   ]
  },
  {
   "cell_type": "markdown",
   "id": "015e484c",
   "metadata": {},
   "source": [
    "# 할인된 금액 계산"
   ]
  },
  {
   "cell_type": "markdown",
   "id": "b1584bb7",
   "metadata": {},
   "source": [
    "* 물건 구매가를 입력받고, 금액에 따른 할인율을 계산하여 구매가, 할인율, 할인금액, 지불금액을 출력하세요.\n",
    "|금액|할인율|\n",
    "|----|------|\n",
    "|1만원이상 5만원미만|5%|\n",
    "|5만원이상 10만원미만|7%|\n",
    "|10만원이상|10%|\n"
   ]
  },
  {
   "cell_type": "code",
   "execution_count": 34,
   "id": "6457c190",
   "metadata": {},
   "outputs": [
    {
     "name": "stdout",
     "output_type": "stream",
     "text": [
      "물건 구매가를 입력하세요 : 10000\n",
      "구매가 : 10000 할인율 : 5% 할인금액 : 500 지불금액 : 9500\n"
     ]
    }
   ],
   "source": [
    "cost = int(input('물건 구매가를 입력하세요 : '))\n",
    "\n",
    "\n",
    "if cost >= 100000 :\n",
    "    dc_value = int(cost/10)\n",
    "    dc_rate = '10%'\n",
    "    \n",
    "    \n",
    "elif cost >= 50000 :\n",
    "    dc_value = int(cost/100*7)\n",
    "    dc_rate = '7%'\n",
    "   \n",
    "elif cost >= 10000 :\n",
    "    dc_value = int(cost/100*5)\n",
    "    dc_rate = '5%'\n",
    "  \n",
    "else :\n",
    "    dc_value = 0\n",
    "    dc_rate = '0%'\n",
    "    \n",
    "pay = int(cost - dc_value)   \n",
    "\n",
    "print(f'구매가 : {cost} 할인율 : {dc_rate} 할인금액 : {dc_value} 지불금액 : {pay}')\n",
    "\n",
    "    "
   ]
  },
  {
   "cell_type": "code",
   "execution_count": null,
   "id": "2b1afb9b",
   "metadata": {},
   "outputs": [],
   "source": []
  }
 ],
 "metadata": {
  "kernelspec": {
   "display_name": "Python 3 (ipykernel)",
   "language": "python",
   "name": "python3"
  },
  "language_info": {
   "codemirror_mode": {
    "name": "ipython",
    "version": 3
   },
   "file_extension": ".py",
   "mimetype": "text/x-python",
   "name": "python",
   "nbconvert_exporter": "python",
   "pygments_lexer": "ipython3",
   "version": "3.9.7"
  },
  "toc": {
   "base_numbering": 1,
   "nav_menu": {},
   "number_sections": true,
   "sideBar": true,
   "skip_h1_title": false,
   "title_cell": "Table of Contents",
   "title_sidebar": "Contents",
   "toc_cell": false,
   "toc_position": {},
   "toc_section_display": true,
   "toc_window_display": true
  }
 },
 "nbformat": 4,
 "nbformat_minor": 5
}
