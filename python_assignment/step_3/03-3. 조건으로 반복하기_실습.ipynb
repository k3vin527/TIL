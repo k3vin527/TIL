{
 "cells": [
  {
   "cell_type": "markdown",
   "id": "ebc62985",
   "metadata": {},
   "source": [
    "# for문과 while문"
   ]
  },
  {
   "cell_type": "markdown",
   "id": "b73ed259",
   "metadata": {},
   "source": [
    "## 1부터 5까지 출력하기"
   ]
  },
  {
   "cell_type": "markdown",
   "id": "cdbf31c2",
   "metadata": {},
   "source": [
    "* for문"
   ]
  },
  {
   "cell_type": "code",
   "execution_count": 1,
   "id": "9d74d031",
   "metadata": {
    "scrolled": true
   },
   "outputs": [
    {
     "name": "stdout",
     "output_type": "stream",
     "text": [
      "1\n",
      "2\n",
      "3\n",
      "4\n",
      "5\n"
     ]
    }
   ],
   "source": [
    "for i in range(1,6):\n",
    "    print(i)"
   ]
  },
  {
   "cell_type": "markdown",
   "id": "fefa6ca2",
   "metadata": {},
   "source": [
    "* while문"
   ]
  },
  {
   "cell_type": "code",
   "execution_count": null,
   "id": "4b3be5d3",
   "metadata": {},
   "outputs": [],
   "source": [
    "n = 1\n",
    "while n<=5:\n",
    "    print(n)\n",
    "    "
   ]
  },
  {
   "cell_type": "markdown",
   "id": "aac38d84",
   "metadata": {},
   "source": [
    "# 1 부터 10 까지 더하기"
   ]
  },
  {
   "cell_type": "markdown",
   "id": "2c80c6f4",
   "metadata": {},
   "source": [
    "* for문"
   ]
  },
  {
   "cell_type": "code",
   "execution_count": 3,
   "id": "cb20d64f",
   "metadata": {},
   "outputs": [
    {
     "name": "stdout",
     "output_type": "stream",
     "text": [
      "55\n"
     ]
    }
   ],
   "source": [
    "vsum = 0\n",
    "for i in range(1, 11) :\n",
    "    vsum += i\n",
    "print(vsum)"
   ]
  },
  {
   "cell_type": "markdown",
   "id": "3737a6f1",
   "metadata": {},
   "source": [
    "* while문"
   ]
  },
  {
   "cell_type": "code",
   "execution_count": 5,
   "id": "c09661fe",
   "metadata": {},
   "outputs": [
    {
     "name": "stdout",
     "output_type": "stream",
     "text": [
      "55\n"
     ]
    }
   ],
   "source": [
    "vsum = 0\n",
    "n = 1\n",
    "while n<=10 :\n",
    "    vsum += n\n",
    "    n +=1\n",
    "print(vsum)"
   ]
  },
  {
   "cell_type": "markdown",
   "id": "f4b515f7",
   "metadata": {},
   "source": [
    "# while문만 가능한 경우"
   ]
  },
  {
   "cell_type": "markdown",
   "id": "5b1afd79",
   "metadata": {},
   "source": [
    "* 'q'를 입력할 때까지 반복하여 이름 입력받기"
   ]
  },
  {
   "cell_type": "code",
   "execution_count": 9,
   "id": "46b19084",
   "metadata": {},
   "outputs": [
    {
     "name": "stdout",
     "output_type": "stream",
     "text": [
      "이름을 입력하세요 : dlfma\n",
      "이름을 입력하세요 : dlfma\n",
      "이름을 입력하세요 : dlfm\n",
      "이름을 입력하세요 : dlfma\n",
      "이름을 입력하세요 : q\n"
     ]
    }
   ],
   "source": [
    "name = input('이름을 입력하세요 : ')\n",
    "while name != 'q' :\n",
    "    name = input('이름을 입력하세요 : ')"
   ]
  },
  {
   "cell_type": "markdown",
   "id": "8ae447b0",
   "metadata": {},
   "source": [
    "* break로 반복문 빠져나오기"
   ]
  },
  {
   "cell_type": "code",
   "execution_count": 11,
   "id": "d7afcca3",
   "metadata": {},
   "outputs": [
    {
     "name": "stdout",
     "output_type": "stream",
     "text": [
      "이름을 입력하세요 : gusdn\n",
      "이름을 입력하세요 : gusdn\n",
      "이름을 입력하세요 : gusdn\n",
      "이름을 입력하세요 : q\n"
     ]
    }
   ],
   "source": [
    "while True :\n",
    "    name = input('이름을 입력하세요 : ')\n",
    "    if name == 'q' :\n",
    "        break"
   ]
  },
  {
   "cell_type": "markdown",
   "id": "799d2e01",
   "metadata": {},
   "source": [
    "# 연습문제"
   ]
  },
  {
   "cell_type": "markdown",
   "id": "9e484f74",
   "metadata": {},
   "source": [
    "* 올바른 아이디/비밀번호를 입력할 때까지 아이디와 비밀번호를 입력하는 프로그램 만들기"
   ]
  },
  {
   "cell_type": "code",
   "execution_count": 17,
   "id": "30325db1",
   "metadata": {
    "scrolled": false
   },
   "outputs": [
    {
     "name": "stdout",
     "output_type": "stream",
     "text": [
      "ID 를 입력하세요 : woody527\n",
      "PW 를 입력하세요 : 1234\n"
     ]
    }
   ],
   "source": [
    "# 올바른 아이디와 비밀번호\n",
    "id = 'woody527'\n",
    "pwd = '1234'\n",
    "\n",
    "while True :\n",
    "    input_id = input('ID 를 입력하세요 : ')\n",
    "    input_pw = input('PW 를 입력하세요 : ')\n",
    "    if input_id == id and input_pw == pwd :\n",
    "        break"
   ]
  },
  {
   "cell_type": "markdown",
   "id": "3189770d",
   "metadata": {},
   "source": [
    "* 확장하기     \n",
    "아이디가 잘못되었으면 '아이디를 확인하세요' 출력    \n",
    "비밀번호가 잘못되었으면 '비밀번호를 확인하세요' 출력"
   ]
  },
  {
   "cell_type": "code",
   "execution_count": 19,
   "id": "072b0d7e",
   "metadata": {
    "scrolled": false
   },
   "outputs": [
    {
     "name": "stdout",
     "output_type": "stream",
     "text": [
      "아이디를 입력하세요 : woody527\n",
      "비밀번호를 입력하세요 : 1234\n"
     ]
    }
   ],
   "source": [
    "# 올바른 아이디와 비밀번호\n",
    "id = 'woody527'\n",
    "pwd = '1234'\n",
    "\n",
    "while True :\n",
    "    input_id = input('아이디를 입력하세요 : ')\n",
    "    input_pw = input('비밀번호를 입력하세요 : ')\n",
    "    \n",
    "    if input_id != id :\n",
    "        print('아이디를 확인하세요')\n",
    "    if input_pw != pwd :\n",
    "        print('비밀번호를 확인하세요')\n",
    "    if input_id == id and input_pw == pwd :\n",
    "        break"
   ]
  },
  {
   "cell_type": "markdown",
   "id": "ceb76323",
   "metadata": {},
   "source": [
    "* 사용자가 0을 입력할 때까지 숫자을 입력받아 입력받은 숫자들의 합을 구하는 프로그램을 작성하세요"
   ]
  },
  {
   "cell_type": "code",
   "execution_count": 23,
   "id": "9897283c",
   "metadata": {
    "scrolled": true
   },
   "outputs": [
    {
     "name": "stdout",
     "output_type": "stream",
     "text": [
      "숫자를 입력하세요 : 1\n",
      "숫자를 입력하세요 : 2\n",
      "숫자를 입력하세요 : 4\n",
      "숫자를 입력하세요 : 3\n",
      "숫자를 입력하세요 : 5\n",
      "숫자를 입력하세요 : 0\n",
      "입력 받은 숫자들의 합은 : 15입니다 \n"
     ]
    }
   ],
   "source": [
    "vsum = 0\n",
    "while True :\n",
    "    num = int(input('숫자를 입력하세요 : '))\n",
    "\n",
    "    vsum += num\n",
    "    \n",
    "    if num == 0 :\n",
    "        break\n",
    "print(f'입력 받은 숫자들의 합은 : {vsum}입니다 ')"
   ]
  }
 ],
 "metadata": {
  "kernelspec": {
   "display_name": "Python 3 (ipykernel)",
   "language": "python",
   "name": "python3"
  },
  "language_info": {
   "codemirror_mode": {
    "name": "ipython",
    "version": 3
   },
   "file_extension": ".py",
   "mimetype": "text/x-python",
   "name": "python",
   "nbconvert_exporter": "python",
   "pygments_lexer": "ipython3",
   "version": "3.9.7"
  },
  "toc": {
   "base_numbering": 1,
   "nav_menu": {},
   "number_sections": true,
   "sideBar": true,
   "skip_h1_title": false,
   "title_cell": "Table of Contents",
   "title_sidebar": "Contents",
   "toc_cell": false,
   "toc_position": {},
   "toc_section_display": true,
   "toc_window_display": true
  }
 },
 "nbformat": 4,
 "nbformat_minor": 5
}
