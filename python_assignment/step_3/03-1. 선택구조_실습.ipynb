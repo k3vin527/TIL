{
 "cells": [
  {
   "cell_type": "markdown",
   "id": "49b066b6",
   "metadata": {},
   "source": [
    "# if구조"
   ]
  },
  {
   "cell_type": "markdown",
   "id": "82005ed3",
   "metadata": {},
   "source": [
    "* 점수를 입력받아, 점수가 60점 이상이면 '합격'을 출력합니다."
   ]
  },
  {
   "cell_type": "code",
   "execution_count": 1,
   "id": "953abbe1",
   "metadata": {},
   "outputs": [
    {
     "name": "stdout",
     "output_type": "stream",
     "text": [
      "점수는 ? : 60\n",
      "합격\n"
     ]
    }
   ],
   "source": [
    "score = int(input('점수는 ? : '))\n",
    "if score >= 60 :\n",
    "    print('합격')\n",
    "    "
   ]
  },
  {
   "cell_type": "markdown",
   "id": "89867f9f",
   "metadata": {},
   "source": [
    "# if..else..구조"
   ]
  },
  {
   "cell_type": "markdown",
   "id": "72e2e273",
   "metadata": {},
   "source": [
    "* 점수를 입력받아, 점수가 60점 이상이면 '합격'을 출력하고, 아니면 '불합격'을 출력합니다."
   ]
  },
  {
   "cell_type": "code",
   "execution_count": 2,
   "id": "dbdd11b4",
   "metadata": {
    "scrolled": false
   },
   "outputs": [
    {
     "name": "stdout",
     "output_type": "stream",
     "text": [
      "점수는 ? : 50\n",
      "불합격\n"
     ]
    }
   ],
   "source": [
    "score = int(input('점수는 ? : '))\n",
    "if score >= 60 :\n",
    "    print('합격')\n",
    "else :\n",
    "    print('불합격')"
   ]
  },
  {
   "cell_type": "markdown",
   "id": "50dfa035",
   "metadata": {},
   "source": [
    "# if..elif..구조"
   ]
  },
  {
   "cell_type": "markdown",
   "id": "7dfb40b6",
   "metadata": {},
   "source": [
    "* 점수를 입력받고 점수의 범위에 따라 등급을 출력하는 프로그램을 작성하세요.    \n",
    "\n",
    "|등급|A|B|C|D|F|\n",
    "|----|--|--|--|--|--|\n",
    "|점수|90이상|80~89|70~79|60~69|0~59|"
   ]
  },
  {
   "cell_type": "code",
   "execution_count": 8,
   "id": "459f46ca",
   "metadata": {},
   "outputs": [
    {
     "name": "stdout",
     "output_type": "stream",
     "text": [
      "점수는 ?79\n",
      "C 등급입니다.\n"
     ]
    }
   ],
   "source": [
    "score = int(input('점수는 ?'))\n",
    "if score >= 90 :\n",
    "    print('A 등급입니다.')\n",
    "elif score>=80 :\n",
    "    print('B 등급입니다.')\n",
    "elif score>=70 :\n",
    "    print('C 등급입니다.')\n",
    "elif score>=60 :\n",
    "    print('D 등급입니다.')\n",
    "else :\n",
    "    print('F 등급입니다.')"
   ]
  },
  {
   "cell_type": "markdown",
   "id": "e2003f20",
   "metadata": {},
   "source": [
    "# 연습문제"
   ]
  },
  {
   "cell_type": "markdown",
   "id": "5ff0dcc9",
   "metadata": {},
   "source": [
    "* 정수를 입력받아 짝수/홀수를 판별하세요."
   ]
  },
  {
   "cell_type": "code",
   "execution_count": 20,
   "id": "9bac5e4d",
   "metadata": {},
   "outputs": [
    {
     "name": "stdout",
     "output_type": "stream",
     "text": [
      "정수를 입력하세요 : 4\n",
      "짝수입니다\n"
     ]
    }
   ],
   "source": [
    "number = int(input('정수를 입력하세요 : '))\n",
    "if number%2 == 0 :\n",
    "    if number == 0 :\n",
    "        print(0)\n",
    "    else : \n",
    "        print('짝수입니다')\n",
    "else :\n",
    "    print('홀수입니다.')"
   ]
  }
 ],
 "metadata": {
  "kernelspec": {
   "display_name": "Python 3 (ipykernel)",
   "language": "python",
   "name": "python3"
  },
  "language_info": {
   "codemirror_mode": {
    "name": "ipython",
    "version": 3
   },
   "file_extension": ".py",
   "mimetype": "text/x-python",
   "name": "python",
   "nbconvert_exporter": "python",
   "pygments_lexer": "ipython3",
   "version": "3.9.7"
  },
  "toc": {
   "base_numbering": 1,
   "nav_menu": {},
   "number_sections": true,
   "sideBar": true,
   "skip_h1_title": false,
   "title_cell": "Table of Contents",
   "title_sidebar": "Contents",
   "toc_cell": false,
   "toc_position": {},
   "toc_section_display": true,
   "toc_window_display": true
  }
 },
 "nbformat": 4,
 "nbformat_minor": 5
}
