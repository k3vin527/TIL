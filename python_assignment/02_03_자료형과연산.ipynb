{
 "cells": [
  {
   "cell_type": "markdown",
   "id": "f353da71",
   "metadata": {},
   "source": [
    "# 산술연산"
   ]
  },
  {
   "cell_type": "code",
   "execution_count": 1,
   "id": "376fc0b9",
   "metadata": {},
   "outputs": [],
   "source": [
    "a, b = 3, 4"
   ]
  },
  {
   "cell_type": "code",
   "execution_count": 2,
   "id": "a48cb908",
   "metadata": {},
   "outputs": [
    {
     "name": "stdout",
     "output_type": "stream",
     "text": [
      "a+b= 7\n",
      "a-b= -1\n",
      "a*b= 12\n",
      "a/b= 0.75\n",
      "a//b= 0\n",
      "a%b= 3\n",
      "a**b= 81\n"
     ]
    }
   ],
   "source": [
    "print('a+b=', a+b)\n",
    "print('a-b=', a-b)\n",
    "print('a*b=', a*b)\n",
    "print('a/b=', a/b)\n",
    "print('a//b=', a//b)\n",
    "print('a%b=', a%b)\n",
    "print('a**b=', a**b)"
   ]
  },
  {
   "cell_type": "markdown",
   "id": "409199a1",
   "metadata": {},
   "source": [
    "# 문자열 연산"
   ]
  },
  {
   "cell_type": "code",
   "execution_count": 3,
   "id": "5df7134a",
   "metadata": {},
   "outputs": [
    {
     "data": {
      "text/plain": [
       "'good morning'"
      ]
     },
     "execution_count": 3,
     "metadata": {},
     "output_type": "execute_result"
    }
   ],
   "source": [
    "# 문자열 더하기(문자열 연결하기)\n",
    "a = 'good'\n",
    "b = ' morning'\n",
    "a+b"
   ]
  },
  {
   "cell_type": "code",
   "execution_count": 4,
   "id": "766e8a14",
   "metadata": {},
   "outputs": [
    {
     "data": {
      "text/plain": [
       "'hahaha'"
      ]
     },
     "execution_count": 4,
     "metadata": {},
     "output_type": "execute_result"
    }
   ],
   "source": [
    "# 문자열 곰하기(문자열 반복하기)\n",
    "s = 'ha'\n",
    "s*3"
   ]
  },
  {
   "cell_type": "code",
   "execution_count": 5,
   "id": "3f3f9323",
   "metadata": {},
   "outputs": [
    {
     "name": "stdout",
     "output_type": "stream",
     "text": [
      "영어점수는 80\n"
     ]
    }
   ],
   "source": [
    "# 문자열과 숫자형 더하기\n",
    "english = 80\n",
    "result = '영어점수는 ' + str(english)\n",
    "print(result)"
   ]
  },
  {
   "cell_type": "markdown",
   "id": "11e083e9",
   "metadata": {},
   "source": [
    "# 할당 연산자"
   ]
  },
  {
   "cell_type": "code",
   "execution_count": 6,
   "id": "56e35d9c",
   "metadata": {},
   "outputs": [],
   "source": [
    "a = 1"
   ]
  },
  {
   "cell_type": "code",
   "execution_count": 7,
   "id": "66979660",
   "metadata": {},
   "outputs": [
    {
     "name": "stdout",
     "output_type": "stream",
     "text": [
      "1 1 1\n"
     ]
    }
   ],
   "source": [
    "# a,b,c에 모두 1할당\n",
    "a = b = c =1\n",
    "print(a,b,c)"
   ]
  },
  {
   "cell_type": "code",
   "execution_count": 8,
   "id": "e6ca748c",
   "metadata": {},
   "outputs": [
    {
     "name": "stdout",
     "output_type": "stream",
     "text": [
      "1 2 3\n"
     ]
    }
   ],
   "source": [
    "#a,b,c에 각각 1,2,3 할당\n",
    "a,b,c = 1,2,3\n",
    "print(a,b,c)"
   ]
  },
  {
   "cell_type": "markdown",
   "id": "398a98b2",
   "metadata": {},
   "source": [
    "# 복합 할당 연산자"
   ]
  },
  {
   "cell_type": "code",
   "execution_count": 9,
   "id": "5e8ac49f",
   "metadata": {},
   "outputs": [
    {
     "name": "stdout",
     "output_type": "stream",
     "text": [
      "30\n"
     ]
    }
   ],
   "source": [
    "x = 10\n",
    "x += 20 # x = x + 20\n",
    "print(x)"
   ]
  },
  {
   "cell_type": "code",
   "execution_count": 10,
   "id": "e61793de",
   "metadata": {},
   "outputs": [
    {
     "name": "stdout",
     "output_type": "stream",
     "text": [
      "24\n"
     ]
    }
   ],
   "source": [
    "x = 3\n",
    "y= 5\n",
    "x *= x+y # x = x(x+y)\n",
    "print(x)"
   ]
  },
  {
   "cell_type": "markdown",
   "id": "b2da7423",
   "metadata": {},
   "source": [
    "# f스트링으로 출력하기"
   ]
  },
  {
   "cell_type": "code",
   "execution_count": 11,
   "id": "a1d30b12",
   "metadata": {},
   "outputs": [
    {
     "name": "stdout",
     "output_type": "stream",
     "text": [
      "이름 : 현우\n",
      "현우 님, 안녕하세요?\n"
     ]
    }
   ],
   "source": [
    "name = input('이름 : ')\n",
    "print(name, '님, 안녕하세요?')"
   ]
  },
  {
   "cell_type": "code",
   "execution_count": 12,
   "id": "38f68958",
   "metadata": {},
   "outputs": [
    {
     "name": "stdout",
     "output_type": "stream",
     "text": [
      "현우님 안녕하세요\n"
     ]
    }
   ],
   "source": [
    "print(f'{name}님 안녕하세요')"
   ]
  },
  {
   "cell_type": "code",
   "execution_count": 13,
   "id": "479f5d99",
   "metadata": {},
   "outputs": [
    {
     "name": "stdout",
     "output_type": "stream",
     "text": [
      "나이 : 30\n",
      "나이는 30 살이시군요. 내년이면 31 살이 되시겠네요\n"
     ]
    }
   ],
   "source": [
    "age = int(input('나이 : '))\n",
    "print('나이는', age, '살이시군요. 내년이면', age+1, '살이 되시겠네요')"
   ]
  },
  {
   "cell_type": "code",
   "execution_count": 14,
   "id": "8e0d2751",
   "metadata": {},
   "outputs": [
    {
     "name": "stdout",
     "output_type": "stream",
     "text": [
      "나이는 30살 이시군요. 내년이면 31살이 되시겠네요\n"
     ]
    }
   ],
   "source": [
    "print(f'나이는 {age}살 이시군요. 내년이면 {age+1}살이 되시겠네요')"
   ]
  },
  {
   "cell_type": "code",
   "execution_count": 15,
   "id": "c451a26e",
   "metadata": {},
   "outputs": [
    {
     "name": "stdout",
     "output_type": "stream",
     "text": [
      "첫번째 숫자: 1\n",
      "두번쨰 숫자: 2\n",
      "1 + 2 = 3\n"
     ]
    }
   ],
   "source": [
    "# 두 수를 입력받아 더하는 프로그램 작성\n",
    "\n",
    "a = int(input('첫번째 숫자: '))\n",
    "b = int(input('두번쨰 숫자: '))\n",
    "print(f'{a} + {b} = {a+b}')"
   ]
  },
  {
   "cell_type": "markdown",
   "id": "deb3327a",
   "metadata": {},
   "source": [
    "# 연습 문제\n",
    "- 화씨 온도를 입력받아 섭씨 온도로 변환하는 프로그램을 작성해보세요.\n",
    "\n",
    "- $C = (F - 32) * 5/9$"
   ]
  },
  {
   "cell_type": "code",
   "execution_count": 17,
   "id": "4d0c3d93",
   "metadata": {},
   "outputs": [
    {
     "name": "stdout",
     "output_type": "stream",
     "text": [
      "화씨온도 : 60\n",
      "화씨온도60.0는  섭씨 15.555555555555555도 입니다.\n"
     ]
    }
   ],
   "source": [
    "# 화씨온도 입력\n",
    "f = float(input('화씨온도 : '))\n",
    "\n",
    "# 섭씨온도 계산\n",
    "c = (f - 32) * 5/9\n",
    "\n",
    "#결과\n",
    "print(f'화씨온도{f}는  섭씨 {c}도 입니다.')"
   ]
  }
 ],
 "metadata": {
  "kernelspec": {
   "display_name": "Python 3 (ipykernel)",
   "language": "python",
   "name": "python3"
  },
  "language_info": {
   "codemirror_mode": {
    "name": "ipython",
    "version": 3
   },
   "file_extension": ".py",
   "mimetype": "text/x-python",
   "name": "python",
   "nbconvert_exporter": "python",
   "pygments_lexer": "ipython3",
   "version": "3.9.7"
  }
 },
 "nbformat": 4,
 "nbformat_minor": 5
}
