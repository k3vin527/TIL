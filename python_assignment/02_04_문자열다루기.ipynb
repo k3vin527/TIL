{
 "cells": [
  {
   "cell_type": "markdown",
   "id": "63b256c3",
   "metadata": {},
   "source": [
    "# 문자열 인덱싱\n",
    "\n",
    "- 양수 인덱스 사용하기"
   ]
  },
  {
   "cell_type": "code",
   "execution_count": 2,
   "id": "f714c596",
   "metadata": {},
   "outputs": [
    {
     "name": "stdout",
     "output_type": "stream",
     "text": [
      "H\n",
      "W\n",
      "d\n",
      "d\n"
     ]
    }
   ],
   "source": [
    "a = 'Hello World'\n",
    "\n",
    "# 'H' 출력하기\n",
    "print(a[0])\n",
    "\n",
    "# 'W' 출력하기\n",
    "print(a[6])\n",
    "\n",
    "# 'd' 출력하기\n",
    "print(a[10])\n",
    "\n",
    "# 음수 인덱스 사용하여 'd' 출력하기\n",
    "print(a[-1])"
   ]
  },
  {
   "cell_type": "markdown",
   "id": "5cfb8de5",
   "metadata": {},
   "source": [
    "- 범위 밖의 인덱스 사용할 경우"
   ]
  },
  {
   "cell_type": "code",
   "execution_count": 3,
   "id": "41e9f276",
   "metadata": {},
   "outputs": [
    {
     "ename": "IndexError",
     "evalue": "string index out of range",
     "output_type": "error",
     "traceback": [
      "\u001b[1;31m---------------------------------------------------------------------------\u001b[0m",
      "\u001b[1;31mIndexError\u001b[0m                                Traceback (most recent call last)",
      "\u001b[1;32m~\\AppData\\Local\\Temp/ipykernel_13448/2944729969.py\u001b[0m in \u001b[0;36m<module>\u001b[1;34m\u001b[0m\n\u001b[1;32m----> 1\u001b[1;33m \u001b[0mprint\u001b[0m\u001b[1;33m(\u001b[0m\u001b[0ma\u001b[0m\u001b[1;33m[\u001b[0m\u001b[1;36m11\u001b[0m\u001b[1;33m]\u001b[0m\u001b[1;33m)\u001b[0m\u001b[1;33m\u001b[0m\u001b[1;33m\u001b[0m\u001b[0m\n\u001b[0m",
      "\u001b[1;31mIndexError\u001b[0m: string index out of range"
     ]
    }
   ],
   "source": [
    "print(a[11])"
   ]
  },
  {
   "cell_type": "markdown",
   "id": "06f84396",
   "metadata": {},
   "source": [
    "# 문자열 슬라이싱\n",
    "\n",
    "- 양수 인덱스로 슬라이싱"
   ]
  },
  {
   "cell_type": "code",
   "execution_count": 9,
   "id": "d79ce4f6",
   "metadata": {},
   "outputs": [
    {
     "name": "stdout",
     "output_type": "stream",
     "text": [
      "Hello\n",
      "World\n"
     ]
    }
   ],
   "source": [
    "a = 'Hello World'\n",
    "# 'Hello' 출력하기\n",
    "print(a[0:5])\n",
    "\n",
    "# 'World' 출력하기\n",
    "print(a[6:11])"
   ]
  },
  {
   "cell_type": "markdown",
   "id": "02a9cfb3",
   "metadata": {},
   "source": [
    "- 음수 인덱스로 슬라이싱"
   ]
  },
  {
   "cell_type": "code",
   "execution_count": 13,
   "id": "13e68d12",
   "metadata": {},
   "outputs": [
    {
     "name": "stdout",
     "output_type": "stream",
     "text": [
      "Hello\n",
      "World\n"
     ]
    }
   ],
   "source": [
    "a = 'Hello World'\n",
    "\n",
    "# 'Hello' 출력하기\n",
    "print(a[-11:-6])\n",
    "\n",
    "# 'World' 출력하기\n",
    "print(a[-5:])"
   ]
  },
  {
   "cell_type": "markdown",
   "id": "3cc6e7ba",
   "metadata": {},
   "source": [
    "- 첫번째와 마지막 인덱스는 생략 가능"
   ]
  },
  {
   "cell_type": "code",
   "execution_count": 14,
   "id": "b4e3e852",
   "metadata": {},
   "outputs": [
    {
     "name": "stdout",
     "output_type": "stream",
     "text": [
      "Hello\n",
      "World\n",
      "Hello World\n"
     ]
    }
   ],
   "source": [
    "a = 'Hello World'\n",
    "\n",
    "# 'Hello'\n",
    "print(a[:5])\n",
    "\n",
    "# 'World'\n",
    "print(a[6:])\n",
    "\n",
    "# 'Hello World'\n",
    "print(a[:])"
   ]
  },
  {
   "cell_type": "markdown",
   "id": "6049c534",
   "metadata": {},
   "source": [
    "- 한문자씩 건너뛰어 출력하기"
   ]
  },
  {
   "cell_type": "code",
   "execution_count": 15,
   "id": "ea6c42c5",
   "metadata": {},
   "outputs": [
    {
     "name": "stdout",
     "output_type": "stream",
     "text": [
      "HloWrd\n"
     ]
    }
   ],
   "source": [
    "a = 'Hello World'\n",
    "print(a[::2])  # a[:] >> 전체에서  a[::2] >> 한문자씩 건너뛰어서"
   ]
  },
  {
   "cell_type": "markdown",
   "id": "c4075c2d",
   "metadata": {},
   "source": [
    "- 역순으로 출력하기 : 간격을 (-) 로 하면 역순 출력됨."
   ]
  },
  {
   "cell_type": "code",
   "execution_count": 16,
   "id": "dc5e4548",
   "metadata": {},
   "outputs": [
    {
     "name": "stdout",
     "output_type": "stream",
     "text": [
      "dlroW olleH\n"
     ]
    }
   ],
   "source": [
    "a = 'Hello World'\n",
    "print(a[::-1])"
   ]
  },
  {
   "cell_type": "markdown",
   "id": "718444e6",
   "metadata": {},
   "source": [
    "# 문자열 함수\n",
    "\n",
    "## 문자열 교체하기\n",
    "\n",
    "- 문자열.replace(찾을문자열, 교체할문자열)"
   ]
  },
  {
   "cell_type": "code",
   "execution_count": 17,
   "id": "89031d23",
   "metadata": {},
   "outputs": [
    {
     "name": "stdout",
     "output_type": "stream",
     "text": [
      "나는 딸기우유가 좋아. 딸기우유 최고\n"
     ]
    }
   ],
   "source": [
    "a = '나는 초코우유가 좋아. 초코우유 최고'\n",
    "\n",
    "# '초코'  >>  '딸기' \n",
    "print(a.replace('초코', '딸기'))"
   ]
  },
  {
   "cell_type": "markdown",
   "id": "5687b817",
   "metadata": {},
   "source": [
    "## 문자의 위치 찾기\n",
    "\n",
    "- 문자열.find(문자)"
   ]
  },
  {
   "cell_type": "code",
   "execution_count": 20,
   "id": "3cf0c673",
   "metadata": {},
   "outputs": [
    {
     "name": "stdout",
     "output_type": "stream",
     "text": [
      "1\n",
      "2\n"
     ]
    }
   ],
   "source": [
    "a = 'Hello, Python!!!'\n",
    "\n",
    "# 'e'의 위치찾기\n",
    "print(a.find('e'))\n",
    "\n",
    "# 'l'의 위치찾기\n",
    "print(a.find('l'))"
   ]
  },
  {
   "cell_type": "markdown",
   "id": "26546c6e",
   "metadata": {},
   "source": [
    "## 소문자로 변환하기\n",
    "\n",
    "- 문자열.lower()"
   ]
  },
  {
   "cell_type": "code",
   "execution_count": 22,
   "id": "bafb6ef8",
   "metadata": {},
   "outputs": [
    {
     "data": {
      "text/plain": [
       "'hello, python!!!'"
      ]
     },
     "execution_count": 22,
     "metadata": {},
     "output_type": "execute_result"
    }
   ],
   "source": [
    "a = 'Hello, Python!!!'\n",
    "a.lower()"
   ]
  },
  {
   "cell_type": "markdown",
   "id": "c4a0a805",
   "metadata": {},
   "source": [
    "## 대문자로 변환하기\n",
    "- 문자열.upper()"
   ]
  },
  {
   "cell_type": "code",
   "execution_count": 23,
   "id": "afb552a2",
   "metadata": {},
   "outputs": [
    {
     "data": {
      "text/plain": [
       "'HELLO, PYTHON!!!'"
      ]
     },
     "execution_count": 23,
     "metadata": {},
     "output_type": "execute_result"
    }
   ],
   "source": [
    "a = 'Hello, Python!!!'\n",
    "a.upper()"
   ]
  },
  {
   "cell_type": "markdown",
   "id": "5ad85601",
   "metadata": {},
   "source": [
    "## 문자열 나누기\n",
    "- 문자열.split(구분자)"
   ]
  },
  {
   "cell_type": "code",
   "execution_count": 24,
   "id": "7e04c531",
   "metadata": {},
   "outputs": [
    {
     "data": {
      "text/plain": [
       "['010', '1234', '5678']"
      ]
     },
     "execution_count": 24,
     "metadata": {},
     "output_type": "execute_result"
    }
   ],
   "source": [
    "phone = '010-1234-5678'\n",
    "phone.split('-')"
   ]
  },
  {
   "cell_type": "code",
   "execution_count": 25,
   "id": "394a57c1",
   "metadata": {},
   "outputs": [
    {
     "data": {
      "text/plain": [
       "['abcde', 'gmail.com']"
      ]
     },
     "execution_count": 25,
     "metadata": {},
     "output_type": "execute_result"
    }
   ],
   "source": [
    "email = 'abcde@gmail.com'\n",
    "email.split('@')"
   ]
  },
  {
   "cell_type": "markdown",
   "id": "90fb97d0",
   "metadata": {},
   "source": [
    "## 연습 문제\n",
    "- 사용자의 영문 이름을 입력받아 성과 이름 순서를 바꾸어서 출력하는 프로그램을 작성하세요. 성과 이름은 공백으로 구분합니다."
   ]
  },
  {
   "cell_type": "code",
   "execution_count": 35,
   "id": "6fb82295",
   "metadata": {},
   "outputs": [
    {
     "name": "stdout",
     "output_type": "stream",
     "text": [
      "이름을 영어로 입력하세요 (성과 이름은 공백으로 구분함) : park hyunwoo\n",
      "['park', 'hyunwoo']\n",
      "hyunwoo park\n"
     ]
    }
   ],
   "source": [
    "name = input('이름을 영어로 입력하세요 (성과 이름은 공백으로 구분함) : ')\n",
    "\n",
    "full_name = name.split(' ')\n",
    "last_name = full_name[0]\n",
    "first_name = full_name[1]\n",
    "\n",
    "print(full_name)\n",
    "print(first_name , last_name)\n"
   ]
  }
 ],
 "metadata": {
  "kernelspec": {
   "display_name": "Python 3 (ipykernel)",
   "language": "python",
   "name": "python3"
  },
  "language_info": {
   "codemirror_mode": {
    "name": "ipython",
    "version": 3
   },
   "file_extension": ".py",
   "mimetype": "text/x-python",
   "name": "python",
   "nbconvert_exporter": "python",
   "pygments_lexer": "ipython3",
   "version": "3.9.7"
  }
 },
 "nbformat": 4,
 "nbformat_minor": 5
}
