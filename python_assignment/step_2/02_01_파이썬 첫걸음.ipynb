{
 "cells": [
  {
   "cell_type": "markdown",
   "id": "825e0114",
   "metadata": {},
   "source": [
    "# 2-1 파이썬 첫걸음\n",
    "\n",
    "## 출력하기 ( 기본 출력 )\n",
    "- print(value1, value2, value3, .... )"
   ]
  },
  {
   "cell_type": "code",
   "execution_count": 1,
   "id": "5c326aea",
   "metadata": {},
   "outputs": [
    {
     "name": "stdout",
     "output_type": "stream",
     "text": [
      "hello\n",
      "hello\n"
     ]
    }
   ],
   "source": [
    "# hello 출력하기\n",
    "print('hello')\n",
    "print(\"hello\")"
   ]
  },
  {
   "cell_type": "code",
   "execution_count": 2,
   "id": "150fb39a",
   "metadata": {},
   "outputs": [
    {
     "name": "stdout",
     "output_type": "stream",
     "text": [
      "hello python\n"
     ]
    }
   ],
   "source": [
    "#hello python 출력하기\n",
    "print('hello',\"python\")"
   ]
  },
  {
   "cell_type": "code",
   "execution_count": 4,
   "id": "d25b09f5",
   "metadata": {},
   "outputs": [
    {
     "name": "stdout",
     "output_type": "stream",
     "text": [
      "1+1= 2\n"
     ]
    }
   ],
   "source": [
    "# 계산식 출력하기 (1+1 = 2)\n",
    "print('1+1=' ,1+1)"
   ]
  },
  {
   "cell_type": "markdown",
   "id": "b610b811",
   "metadata": {},
   "source": [
    "## 구분자 지정\n",
    "- print(value1, value2, ... ,sep = '구분자')"
   ]
  },
  {
   "cell_type": "code",
   "execution_count": 5,
   "id": "be0152ac",
   "metadata": {},
   "outputs": [
    {
     "name": "stdout",
     "output_type": "stream",
     "text": [
      "hello,python\n"
     ]
    }
   ],
   "source": [
    "# . 로 구분 (hello.python)\n",
    "print('hello', 'python', sep = ',')"
   ]
  },
  {
   "cell_type": "markdown",
   "id": "7bfb6cd6",
   "metadata": {},
   "source": [
    "## 끝문자 지정\n",
    "- print(value1, value2, ... , end='끝문자')"
   ]
  },
  {
   "cell_type": "code",
   "execution_count": 6,
   "id": "5f294432",
   "metadata": {},
   "outputs": [
    {
     "name": "stdout",
     "output_type": "stream",
     "text": [
      "안녕하세요 반갑습니다\n"
     ]
    }
   ],
   "source": [
    "# 공백으로 끝내기 (안녕하세요 반갑습니다)\n",
    "print('안녕하세요', end = ' ')\n",
    "print('반갑습니다')"
   ]
  },
  {
   "cell_type": "code",
   "execution_count": 7,
   "id": "999a4192",
   "metadata": {},
   "outputs": [
    {
     "name": "stdout",
     "output_type": "stream",
     "text": [
      "안녕하세요!!반갑습니다!!"
     ]
    }
   ],
   "source": [
    "# !!로 끝내기 (안녕하세요!!반갑습니다!!)\n",
    "print('안녕하세요', end = '!!')\n",
    "print('반갑습니다', end = '!!')"
   ]
  },
  {
   "cell_type": "markdown",
   "id": "44bdb739",
   "metadata": {},
   "source": [
    "## 여러 줄 한번에 출력하기\n",
    "- 홑따옴표 세개(''') 혹은 쌍따옴표 세개(\"\"\")로 묶는다."
   ]
  },
  {
   "cell_type": "code",
   "execution_count": 8,
   "id": "04149c05",
   "metadata": {},
   "outputs": [
    {
     "name": "stdout",
     "output_type": "stream",
     "text": [
      "\n",
      "자세히 보아야 예쁘다.\n",
      "오래보아야사랑스럽다.\n",
      "너도 그렇다.\n",
      "\n"
     ]
    }
   ],
   "source": [
    "print('''\n",
    "자세히 보아야 예쁘다.\n",
    "오래보아야사랑스럽다.\n",
    "너도 그렇다.\n",
    "''')"
   ]
  },
  {
   "cell_type": "code",
   "execution_count": 9,
   "id": "43b6bb37",
   "metadata": {},
   "outputs": [
    {
     "name": "stdout",
     "output_type": "stream",
     "text": [
      "\n",
      "자세히 보아야 예쁘다.\n",
      "오래보아야사랑스럽다.\n",
      "너도 그렇다.\n",
      "\n"
     ]
    }
   ],
   "source": [
    "print(\"\"\"\n",
    "자세히 보아야 예쁘다.\n",
    "오래보아야사랑스럽다.\n",
    "너도 그렇다.\n",
    "\"\"\")"
   ]
  },
  {
   "cell_type": "markdown",
   "id": "1749cab5",
   "metadata": {},
   "source": [
    "## 주석 달기\n",
    "- 프로그램에 대한 설명을 적을 때, 코드 실행 잠시 막아둘 때 주석 사용\n",
    "- python >> # 기호로 주석 이용"
   ]
  },
  {
   "cell_type": "code",
   "execution_count": 10,
   "id": "0e8d7d85",
   "metadata": {},
   "outputs": [
    {
     "name": "stdout",
     "output_type": "stream",
     "text": [
      "1\n",
      "3\n"
     ]
    }
   ],
   "source": [
    "## 주석에 대한 코드 \n",
    "print(1) # 주석\n",
    "# print(2)\n",
    "print(3)"
   ]
  },
  {
   "cell_type": "markdown",
   "id": "f468576a",
   "metadata": {},
   "source": [
    "## 들여 쓰기\n",
    "- 파이썬에서 들여쓰기는 문법.\n",
    "- 들여쓰기 방법은 공백 2칸, 4칸 여러 방법 있지만 보통 4칸 사용."
   ]
  },
  {
   "cell_type": "code",
   "execution_count": 11,
   "id": "cae5be56",
   "metadata": {},
   "outputs": [
    {
     "ename": "IndentationError",
     "evalue": "unexpected indent (Temp/ipykernel_10636/246959834.py, line 2)",
     "output_type": "error",
     "traceback": [
      "\u001b[1;36m  File \u001b[1;32m\"C:\\Users\\k3vin\\AppData\\Local\\Temp/ipykernel_10636/246959834.py\"\u001b[1;36m, line \u001b[1;32m2\u001b[0m\n\u001b[1;33m    print('hello2')\u001b[0m\n\u001b[1;37m    ^\u001b[0m\n\u001b[1;31mIndentationError\u001b[0m\u001b[1;31m:\u001b[0m unexpected indent\n"
     ]
    }
   ],
   "source": [
    "print('hello1')\n",
    " print('hello2')"
   ]
  },
  {
   "cell_type": "markdown",
   "id": "e5f16218",
   "metadata": {},
   "source": [
    "## 오류 해석하기\n",
    "- 파이썬은 대소문자를 구분한다."
   ]
  },
  {
   "cell_type": "code",
   "execution_count": 12,
   "id": "a6639b77",
   "metadata": {},
   "outputs": [
    {
     "ename": "NameError",
     "evalue": "name 'Print' is not defined",
     "output_type": "error",
     "traceback": [
      "\u001b[1;31m---------------------------------------------------------------------------\u001b[0m",
      "\u001b[1;31mNameError\u001b[0m                                 Traceback (most recent call last)",
      "\u001b[1;32m~\\AppData\\Local\\Temp/ipykernel_10636/2674531823.py\u001b[0m in \u001b[0;36m<module>\u001b[1;34m\u001b[0m\n\u001b[1;32m----> 1\u001b[1;33m \u001b[0mPrint\u001b[0m\u001b[1;33m(\u001b[0m\u001b[1;34m'hello'\u001b[0m\u001b[1;33m)\u001b[0m\u001b[1;33m\u001b[0m\u001b[1;33m\u001b[0m\u001b[0m\n\u001b[0m",
      "\u001b[1;31mNameError\u001b[0m: name 'Print' is not defined"
     ]
    }
   ],
   "source": [
    "Print('hello')"
   ]
  },
  {
   "cell_type": "markdown",
   "id": "376d2501",
   "metadata": {},
   "source": [
    "- 따옴표의 짝이 맞아야 함."
   ]
  },
  {
   "cell_type": "code",
   "execution_count": 13,
   "id": "42db37a1",
   "metadata": {},
   "outputs": [
    {
     "ename": "SyntaxError",
     "evalue": "EOL while scanning string literal (Temp/ipykernel_10636/353353896.py, line 1)",
     "output_type": "error",
     "traceback": [
      "\u001b[1;36m  File \u001b[1;32m\"C:\\Users\\k3vin\\AppData\\Local\\Temp/ipykernel_10636/353353896.py\"\u001b[1;36m, line \u001b[1;32m1\u001b[0m\n\u001b[1;33m    print('hello'')\u001b[0m\n\u001b[1;37m                   ^\u001b[0m\n\u001b[1;31mSyntaxError\u001b[0m\u001b[1;31m:\u001b[0m EOL while scanning string literal\n"
     ]
    }
   ],
   "source": [
    "print('hello'')"
   ]
  },
  {
   "cell_type": "markdown",
   "id": "f074bab1",
   "metadata": {},
   "source": [
    "- 괄호의 짝이 맞아야 함."
   ]
  },
  {
   "cell_type": "code",
   "execution_count": 14,
   "id": "120847fd",
   "metadata": {},
   "outputs": [
    {
     "ename": "SyntaxError",
     "evalue": "closing parenthesis '}' does not match opening parenthesis '(' (Temp/ipykernel_10636/670788223.py, line 1)",
     "output_type": "error",
     "traceback": [
      "\u001b[1;36m  File \u001b[1;32m\"C:\\Users\\k3vin\\AppData\\Local\\Temp/ipykernel_10636/670788223.py\"\u001b[1;36m, line \u001b[1;32m1\u001b[0m\n\u001b[1;33m    print('hello'}\u001b[0m\n\u001b[1;37m                 ^\u001b[0m\n\u001b[1;31mSyntaxError\u001b[0m\u001b[1;31m:\u001b[0m closing parenthesis '}' does not match opening parenthesis '('\n"
     ]
    }
   ],
   "source": [
    "print('hello'}"
   ]
  }
 ],
 "metadata": {
  "kernelspec": {
   "display_name": "Python 3 (ipykernel)",
   "language": "python",
   "name": "python3"
  },
  "language_info": {
   "codemirror_mode": {
    "name": "ipython",
    "version": 3
   },
   "file_extension": ".py",
   "mimetype": "text/x-python",
   "name": "python",
   "nbconvert_exporter": "python",
   "pygments_lexer": "ipython3",
   "version": "3.9.7"
  }
 },
 "nbformat": 4,
 "nbformat_minor": 5
}
