{
 "cells": [
  {
   "cell_type": "code",
   "execution_count": 2,
   "id": "5570ae99",
   "metadata": {},
   "outputs": [],
   "source": [
    "from selenium import webdriver\n",
    "from selenium.webdriver.chrome.service import Service\n",
    "from bs4 import BeautifulSoup\n",
    "\n",
    "ser = Service('c:/playwithdata/chromedriver.exe')\n",
    "driver = webdriver.Chrome(service=ser)"
   ]
  },
  {
   "cell_type": "code",
   "execution_count": 3,
   "id": "c2dfb687",
   "metadata": {},
   "outputs": [],
   "source": [
    "url = 'https://youtube-rank.com/board/bbs/board.php?bo_table=youtube'\n",
    "driver.get(url)"
   ]
  },
  {
   "cell_type": "code",
   "execution_count": 4,
   "id": "5e4aac64",
   "metadata": {},
   "outputs": [],
   "source": [
    "html = driver.page_source\n",
    "\n",
    "soup = BeautifulSoup(html, 'html.parser')"
   ]
  },
  {
   "cell_type": "code",
   "execution_count": 89,
   "id": "0321b200",
   "metadata": {
    "scrolled": true
   },
   "outputs": [],
   "source": [
    "data = soup.select('tbody > tr')\n",
    "data = data[:-1]\n",
    "youtuber = data[0]\n",
    "\n",
    "youtube_rank = []\n",
    "\n",
    "\n",
    "for youtuber in data : \n",
    "    rank = youtuber.select('td.rank')[0].text.strip()\n",
    "    category = youtuber.select('p')[1].text.strip()\n",
    "    ch_name = youtuber.select('a')[1].text.strip()\n",
    "    subscriber = youtuber.select('td.subscriber_cnt')[0].text.strip()\n",
    "    view = youtuber.select('td.view_cnt')[0].text.strip()\n",
    "    videos = youtuber.select('td.video_cnt')[0].text.strip()\n",
    "    my_list = [rank, category, ch_name, subscriber, view, videos]\n",
    "    youtube_rank.append(my_list)\n",
    "    \n"
   ]
  },
  {
   "cell_type": "code",
   "execution_count": 91,
   "id": "9eb91408",
   "metadata": {},
   "outputs": [],
   "source": [
    "import pandas as pd\n",
    "from pandas import DataFrame, Series\n",
    "\n",
    "mydf = pd.DataFrame(youtube_rank, columns = ['순위', '카테고리','채널명','구독자','조회수','VIDEO'])\n",
    "mydf = mydf.set_index('순위')\n",
    "mydf.to_excel('./files/YouTube_class2.xlsx')"
   ]
  }
 ],
 "metadata": {
  "kernelspec": {
   "display_name": "Python 3 (ipykernel)",
   "language": "python",
   "name": "python3"
  },
  "language_info": {
   "codemirror_mode": {
    "name": "ipython",
    "version": 3
   },
   "file_extension": ".py",
   "mimetype": "text/x-python",
   "name": "python",
   "nbconvert_exporter": "python",
   "pygments_lexer": "ipython3",
   "version": "3.9.7"
  }
 },
 "nbformat": 4,
 "nbformat_minor": 5
}
