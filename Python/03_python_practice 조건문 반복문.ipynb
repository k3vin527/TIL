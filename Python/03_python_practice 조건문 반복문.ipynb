{
 "cells": [
  {
   "cell_type": "markdown",
   "id": "c60622ac",
   "metadata": {},
   "source": [
    "# 조건문과 반복문\n",
    "---\n",
    "\n",
    "## 논리연산자\n",
    "\n",
    "- and\n",
    "- or\n",
    "- not\n",
    "---------\n"
   ]
  },
  {
   "cell_type": "code",
   "execution_count": 5,
   "id": "f5596c3b",
   "metadata": {},
   "outputs": [],
   "source": [
    "# and\n",
    "\n",
    "v1 = 1"
   ]
  },
  {
   "cell_type": "code",
   "execution_count": 6,
   "id": "d9240ba4",
   "metadata": {},
   "outputs": [
    {
     "data": {
      "text/plain": [
       "False"
      ]
     },
     "execution_count": 6,
     "metadata": {},
     "output_type": "execute_result"
    }
   ],
   "source": [
    "(v1>3) and (v1<=7)"
   ]
  },
  {
   "cell_type": "code",
   "execution_count": 7,
   "id": "d7dbe4c6",
   "metadata": {},
   "outputs": [
    {
     "data": {
      "text/plain": [
       "False"
      ]
     },
     "execution_count": 7,
     "metadata": {},
     "output_type": "execute_result"
    }
   ],
   "source": [
    "(v1>3) & (v1<=7)"
   ]
  },
  {
   "cell_type": "code",
   "execution_count": 8,
   "id": "3a9239eb",
   "metadata": {},
   "outputs": [
    {
     "data": {
      "text/plain": [
       "True"
      ]
     },
     "execution_count": 8,
     "metadata": {},
     "output_type": "execute_result"
    }
   ],
   "source": [
    "(v1<=3) or (v1>=7)"
   ]
  },
  {
   "cell_type": "code",
   "execution_count": 9,
   "id": "650c562e",
   "metadata": {},
   "outputs": [
    {
     "data": {
      "text/plain": [
       "True"
      ]
     },
     "execution_count": 9,
     "metadata": {},
     "output_type": "execute_result"
    }
   ],
   "source": [
    "(v1<=3)|(v1>=7)"
   ]
  },
  {
   "cell_type": "markdown",
   "id": "c14652b4",
   "metadata": {},
   "source": [
    "## 조건문 ( if )\n",
    "\n",
    "- 형식 \n",
    "---\n",
    "```python\n",
    " if 조건 :  \n",
    "     참(True)일 때 실행 문장\n",
    " else :\n",
    "     거짓(False)일 때 실행 문장\n",
    "```\n",
    "     \n",
    "\n",
    "```python\n",
    " if 조건 1 : \n",
    "     참(True)일 때 실행 문장\n",
    " elif 조건 2 :\n",
    "     조건 1 이 거짓이면서 조건 2가 참일 때 실행 문장\n",
    " else :\n",
    "     조건 1, 조건 2가 모두 거짓일때 실행 문장\n",
    "```\n",
    "---"
   ]
  },
  {
   "cell_type": "code",
   "execution_count": 1,
   "id": "88112c01",
   "metadata": {},
   "outputs": [
    {
     "name": "stdout",
     "output_type": "stream",
     "text": [
      "B\n"
     ]
    }
   ],
   "source": [
    "v1 = 4\n",
    "if v1>5:\n",
    "    print(\"A\")\n",
    "else: \n",
    "    print(\"B\")"
   ]
  },
  {
   "cell_type": "markdown",
   "id": "d2321c0b",
   "metadata": {},
   "source": [
    "## 반복문\n",
    "- 객채의 각 원소에 동일한 연산처리 진행할 경우 사용\n",
    "1. for 문 : 정해진 횟수, 대상이 있을 경우\n",
    "2. while 문 : 조건에 따른 반복을 실한하는 경우\n",
    "----\n",
    "```python\n",
    "for 반복변수 in 반복할 대상(범위) :\n",
    "    반복 실행할 문장\n",
    "```\n",
    "---\n",
    "```python\n",
    "while 조건 :\n",
    "    조건이 참일 때 반복 문장\n",
    "```\n",
    "---"
   ]
  },
  {
   "cell_type": "markdown",
   "id": "e558a639",
   "metadata": {},
   "source": [
    "### 예제 1\n",
    "- 1 ~ 10 까지 출력"
   ]
  },
  {
   "cell_type": "code",
   "execution_count": 11,
   "id": "fb2345da",
   "metadata": {},
   "outputs": [
    {
     "name": "stdout",
     "output_type": "stream",
     "text": [
      "1\n",
      "2\n",
      "3\n",
      "4\n",
      "5\n",
      "6\n",
      "7\n",
      "8\n",
      "9\n",
      "10\n"
     ]
    }
   ],
   "source": [
    "for i in range(1,11):\n",
    "    print(i)"
   ]
  },
  {
   "cell_type": "markdown",
   "id": "8737bbd4",
   "metadata": {},
   "source": [
    "### 예제 2\n",
    "- 다음의 리스트( l1 = [1,3,5,15,25] ) 선언하고 5보다 클 경우, 'A' 작거나 같을 경우 'B'"
   ]
  },
  {
   "cell_type": "code",
   "execution_count": 12,
   "id": "b815997b",
   "metadata": {},
   "outputs": [
    {
     "name": "stdout",
     "output_type": "stream",
     "text": [
      "B\n",
      "B\n",
      "B\n",
      "A\n",
      "A\n"
     ]
    }
   ],
   "source": [
    "l1 = [1,3,5,15,25]\n",
    "for i in l1 :\n",
    "    if i>5 :\n",
    "        print('A')\n",
    "    else :\n",
    "        print('B')"
   ]
  },
  {
   "cell_type": "markdown",
   "id": "fc85ebd6",
   "metadata": {},
   "source": [
    "- 위 리스트에서 각 원소에 10을 더해서 출력"
   ]
  },
  {
   "cell_type": "code",
   "execution_count": 13,
   "id": "63409dae",
   "metadata": {},
   "outputs": [
    {
     "name": "stdout",
     "output_type": "stream",
     "text": [
      "[11, 13, 15, 25, 35]\n"
     ]
    }
   ],
   "source": [
    "l2 = []\n",
    "for i in l1 :\n",
    "    l2.append(i+10)\n",
    "print(l2)"
   ]
  },
  {
   "cell_type": "code",
   "execution_count": 14,
   "id": "da458d48",
   "metadata": {},
   "outputs": [
    {
     "data": {
      "text/plain": [
       "[1, 2, 3, 4]"
      ]
     },
     "execution_count": 14,
     "metadata": {},
     "output_type": "execute_result"
    }
   ],
   "source": [
    "# append : 리스트에 element 추가시 사용\n",
    "l3 = [1,2,3]\n",
    "l3.append(4)\n",
    "l3 "
   ]
  },
  {
   "cell_type": "markdown",
   "id": "16aff4d6",
   "metadata": {},
   "source": [
    "### 예제 3\n",
    "- while 문으로 1~10 까지 출력"
   ]
  },
  {
   "cell_type": "code",
   "execution_count": 15,
   "id": "4b7a9d8e",
   "metadata": {},
   "outputs": [
    {
     "name": "stdout",
     "output_type": "stream",
     "text": [
      "1\n",
      "2\n",
      "3\n",
      "4\n",
      "5\n",
      "6\n",
      "7\n",
      "8\n",
      "9\n",
      "10\n"
     ]
    }
   ],
   "source": [
    "i= 1\n",
    "while i <= 10:\n",
    "    print(i)\n",
    "    i += 1\n"
   ]
  },
  {
   "cell_type": "markdown",
   "id": "5f391b5f",
   "metadata": {},
   "source": [
    "- 1~100 까지 총 합"
   ]
  },
  {
   "cell_type": "code",
   "execution_count": 22,
   "id": "9635da67",
   "metadata": {},
   "outputs": [
    {
     "name": "stdout",
     "output_type": "stream",
     "text": [
      "5050\n"
     ]
    }
   ],
   "source": [
    "i=0\n",
    "vsum = 0\n",
    "while i < 100 :\n",
    "    i = i + 1\n",
    "    vsum += i\n",
    "print(vsum)    \n",
    "    "
   ]
  },
  {
   "cell_type": "code",
   "execution_count": 23,
   "id": "a54c01b0",
   "metadata": {},
   "outputs": [
    {
     "name": "stdout",
     "output_type": "stream",
     "text": [
      "5050\n"
     ]
    }
   ],
   "source": [
    "vsum = 0\n",
    "for i in range(1,101):\n",
    "    vsum += i\n",
    "\n",
    "print(vsum)"
   ]
  },
  {
   "cell_type": "markdown",
   "id": "c587575e",
   "metadata": {},
   "source": [
    "- 1~100 까지 짝수 총합"
   ]
  },
  {
   "cell_type": "code",
   "execution_count": 25,
   "id": "498d8f6d",
   "metadata": {},
   "outputs": [
    {
     "name": "stdout",
     "output_type": "stream",
     "text": [
      "2550\n"
     ]
    }
   ],
   "source": [
    "vsum = 0\n",
    "for i in range(1,101) :\n",
    "    if i%2 == 0 :\n",
    "        vsum += i\n",
    "print(vsum)"
   ]
  },
  {
   "cell_type": "markdown",
   "id": "d27f39e1",
   "metadata": {},
   "source": [
    "## 반복제어문\n",
    "---\n",
    "1. continue : 특정 조건일 경우 반복문 스킵\n",
    "2. break : x특정 조건일 경우 반복문 종료 (정지 조건)\n",
    "3. exit : 특정 조건일 경우 프로그램 종료\n",
    "4. pass : 문법적으로 오류를 발생시키지 않기 위해 자리를 채우는 역할\n",
    "---"
   ]
  },
  {
   "cell_type": "markdown",
   "id": "7b26b992",
   "metadata": {},
   "source": [
    "### 예제 4\n",
    "- 1~10 출력, 5제외"
   ]
  },
  {
   "cell_type": "code",
   "execution_count": 27,
   "id": "607ded0d",
   "metadata": {},
   "outputs": [
    {
     "name": "stdout",
     "output_type": "stream",
     "text": [
      "1\n",
      "2\n",
      "3\n",
      "4\n",
      "6\n",
      "7\n",
      "8\n",
      "9\n",
      "10\n"
     ]
    }
   ],
   "source": [
    "for i in range(1,11):\n",
    "    if i == 5:\n",
    "        continue\n",
    "    print(i)"
   ]
  },
  {
   "cell_type": "markdown",
   "id": "129c177f",
   "metadata": {},
   "source": [
    "- 1 부터 100 까지 누적합이 최초 2000 이상이 되는 시점의 k 값과 총 합을 출력하세요."
   ]
  },
  {
   "cell_type": "code",
   "execution_count": 38,
   "id": "d78ff768",
   "metadata": {},
   "outputs": [
    {
     "name": "stdout",
     "output_type": "stream",
     "text": [
      "63\n",
      "2016\n"
     ]
    }
   ],
   "source": [
    "vsum = 0\n",
    "for k in range(1,101):\n",
    "    vsum += k\n",
    "    if vsum >= 2000:\n",
    "        print(k)\n",
    "        break\n",
    "print(vsum)"
   ]
  }
 ],
 "metadata": {
  "kernelspec": {
   "display_name": "Python 3 (ipykernel)",
   "language": "python",
   "name": "python3"
  },
  "language_info": {
   "codemirror_mode": {
    "name": "ipython",
    "version": 3
   },
   "file_extension": ".py",
   "mimetype": "text/x-python",
   "name": "python",
   "nbconvert_exporter": "python",
   "pygments_lexer": "ipython3",
   "version": "3.10.1"
  }
 },
 "nbformat": 4,
 "nbformat_minor": 5
}
