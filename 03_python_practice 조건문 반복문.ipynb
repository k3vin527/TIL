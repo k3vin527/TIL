{
 "cells": [
  {
   "cell_type": "markdown",
   "id": "b0bf2ac9",
   "metadata": {},
   "source": [
    "# 조건문과 반복문\n",
    "---"
   ]
  },
  {
   "cell_type": "markdown",
   "id": "777e10dd",
   "metadata": {},
   "source": [
    "## 논리연산자\n",
    "\n",
    "- and\n",
    "- or\n",
    "- not\n",
    "\n",
    "---------\n"
   ]
  },
  {
   "cell_type": "code",
   "execution_count": 2,
   "id": "c60b3431",
   "metadata": {},
   "outputs": [],
   "source": [
    "# and\n",
    "\n",
    "v1 = 1"
   ]
  },
  {
   "cell_type": "code",
   "execution_count": 3,
   "id": "8a1de6a0",
   "metadata": {},
   "outputs": [
    {
     "data": {
      "text/plain": [
       "False"
      ]
     },
     "execution_count": 3,
     "metadata": {},
     "output_type": "execute_result"
    }
   ],
   "source": [
    "(v1>3) and (v1<=7)"
   ]
  },
  {
   "cell_type": "code",
   "execution_count": 4,
   "id": "2387bd76",
   "metadata": {},
   "outputs": [
    {
     "data": {
      "text/plain": [
       "False"
      ]
     },
     "execution_count": 4,
     "metadata": {},
     "output_type": "execute_result"
    }
   ],
   "source": [
    "(v1>3) & (v1<=7)"
   ]
  },
  {
   "cell_type": "code",
   "execution_count": 5,
   "id": "d0c7fb8d",
   "metadata": {},
   "outputs": [
    {
     "data": {
      "text/plain": [
       "True"
      ]
     },
     "execution_count": 5,
     "metadata": {},
     "output_type": "execute_result"
    }
   ],
   "source": [
    "(v1<=3) or (v1>=7)"
   ]
  },
  {
   "cell_type": "code",
   "execution_count": 6,
   "id": "48e3f653",
   "metadata": {},
   "outputs": [
    {
     "data": {
      "text/plain": [
       "True"
      ]
     },
     "execution_count": 6,
     "metadata": {},
     "output_type": "execute_result"
    }
   ],
   "source": [
    "(v1<=3)|(v1>=7)"
   ]
  },
  {
   "cell_type": "markdown",
   "id": "83764004",
   "metadata": {},
   "source": [
    "## 조건문 ( if )\n",
    "\n",
    "형식 \n",
    "\n",
    "```python\n",
    " if 조건 :  \n",
    "     참(True)일 때 실행 문장\n",
    " else :\n",
    "     거짓(False)일 때 실행 문장\n",
    "```\n",
    "     \n",
    "\n",
    "```python\n",
    " if 조건 1 : \n",
    "     참(True)일 때 실행 문장\n",
    " elif 조건 2 :\n",
    "     조건 1 이 거짓이면서 조건 2가 참일 때 실행 문장\n",
    " else :\n",
    "     조건 1, 조건 2가 모두 거짓일때 실행 문장\n",
    "```"
   ]
  },
  {
   "cell_type": "code",
   "execution_count": 7,
   "id": "43379b64",
   "metadata": {},
   "outputs": [
    {
     "name": "stdout",
     "output_type": "stream",
     "text": [
      "B\n"
     ]
    }
   ],
   "source": [
    "v1 = 4\n",
    "if v1>5:\n",
    "    print(\"A\")\n",
    "else: \n",
    "    print(\"B\")"
   ]
  }
 ],
 "metadata": {
  "kernelspec": {
   "display_name": "Python 3 (ipykernel)",
   "language": "python",
   "name": "python3"
  },
  "language_info": {
   "codemirror_mode": {
    "name": "ipython",
    "version": 3
   },
   "file_extension": ".py",
   "mimetype": "text/x-python",
   "name": "python",
   "nbconvert_exporter": "python",
   "pygments_lexer": "ipython3",
   "version": "3.9.7"
  }
 },
 "nbformat": 4,
 "nbformat_minor": 5
}
